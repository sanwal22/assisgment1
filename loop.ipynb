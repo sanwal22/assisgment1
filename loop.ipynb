{
 "cells": [
  {
   "cell_type": "code",
   "execution_count": null,
   "id": "cfd3e6c5",
   "metadata": {},
   "outputs": [],
   "source": [
    "a=10\n",
    "b=20\n",
    "if a==10 and b==20:\n",
    "    print(\"valid statement\")\n"
   ]
  },
  {
   "cell_type": "code",
   "execution_count": null,
   "id": "7f43cf48",
   "metadata": {},
   "outputs": [],
   "source": [
    "fname= str(input(\"enter first name\"))\n",
    "lname= str(input(\"enter last name\"))\n",
    "if fname==\"sandeep\" and lname==\"sanwal\":\n",
    "    print(\"this is valid\")\n",
    "else:\n",
    "    print(\"this name is not valid\")\n"
   ]
  },
  {
   "cell_type": "markdown",
   "id": "6dffebc3",
   "metadata": {},
   "source": [
    "## while loop\n"
   ]
  },
  {
   "cell_type": "code",
   "execution_count": null,
   "id": "c566d71a",
   "metadata": {},
   "outputs": [],
   "source": [
    "in_speed = 0\n",
    "fin_speed=100\n",
    "count =1\n",
    "while in_speed <= fin_speed :\n",
    "    print(\"this is my speed\")\n",
    "    count=count+1\n",
    "    if count ==5:\n",
    "        break\n",
    "    "
   ]
  },
  {
   "cell_type": "code",
   "execution_count": null,
   "id": "c1f5018b",
   "metadata": {},
   "outputs": [],
   "source": [
    "in_speed = 0\n",
    "fin_speed=5\n",
    "#count =1\n",
    "while in_speed < fin_speed :\n",
    "    print(\"this is my speed\")\n",
    "    #count=count+1\n",
    "    in_speed =in_speed+1"
   ]
  },
  {
   "cell_type": "code",
   "execution_count": null,
   "id": "9a654236",
   "metadata": {},
   "outputs": [],
   "source": [
    "notes =5\n",
    "i=1\n",
    "j=1\n",
    "while i<notes:\n",
    "    print(i)\n",
    "    i=i+1\n",
    "else:\n",
    "    while j<2:\n",
    "        print(i)\n",
    "    j=j+1\n",
    "    print(\"no 5 notes here\")"
   ]
  },
  {
   "cell_type": "code",
   "execution_count": null,
   "id": "e769d84f",
   "metadata": {},
   "outputs": [],
   "source": [
    "S=\"SANDEEP\"\n",
    "S[3]\n"
   ]
  },
  {
   "cell_type": "markdown",
   "id": "6e370393",
   "metadata": {},
   "source": [
    "## For Loop"
   ]
  },
  {
   "cell_type": "code",
   "execution_count": null,
   "id": "b050f7ee",
   "metadata": {},
   "outputs": [],
   "source": [
    "s=\"my name is sandeep\"\n",
    "for x in s:\n",
    "    print(x)"
   ]
  },
  {
   "cell_type": "code",
   "execution_count": null,
   "id": "19b66c6f",
   "metadata": {},
   "outputs": [],
   "source": [
    "for i in s:\n",
    "    print(i)\n",
    "else:\n",
    "    if i == \"p\" :\n",
    "        print(\"this is l part\")\n",
    "    print(\"nothing much\")"
   ]
  },
  {
   "cell_type": "code",
   "execution_count": null,
   "id": "168d83ef",
   "metadata": {},
   "outputs": [],
   "source": [
    "for i in s:\n",
    "    if i == \"n\":\n",
    "        break  # it will not excute else candition\n",
    "    print(i)\n",
    "else:\n",
    "    if i == \"p\" :\n",
    "        print(\"this is l part\")\n",
    "    print(\"nothing much\")"
   ]
  },
  {
   "cell_type": "code",
   "execution_count": null,
   "id": "65292463",
   "metadata": {},
   "outputs": [],
   "source": [
    "for i in s:\n",
    "    if i == \"n\":\n",
    "        continue # once it will get i=n , loop will continue and will not pring n here\n",
    "    print(i)\n",
    "else:\n",
    "    if i == \"p\" :\n",
    "        print(\"this is l part\")\n",
    "    print(\"nothing much\")"
   ]
  },
  {
   "cell_type": "code",
   "execution_count": null,
   "id": "e80971fa",
   "metadata": {},
   "outputs": [],
   "source": [
    "s= \"sandeep\"\n",
    "ss=\"\"\n",
    "for i in range(len(s)):\n",
    "    if s[i] ==\"e\":\n",
    "        continue\n",
    "    else:\n",
    "        #print(s[i])\n",
    "        ss= ss+s[i]\n",
    "        # print()"
   ]
  },
  {
   "cell_type": "code",
   "execution_count": null,
   "id": "aabf6bef",
   "metadata": {},
   "outputs": [],
   "source": [
    "ss"
   ]
  },
  {
   "cell_type": "code",
   "execution_count": null,
   "id": "a2206e8f",
   "metadata": {},
   "outputs": [],
   "source": [
    "n=7\n",
    "for i in range(n):\n",
    "    for j in  range(i+1):\n",
    "        print (\"*\" , end =\"\") #In Python 3. x, the end=' ' is used to place a space after the displayed string instead of a newline\n",
    "    print(\"\\r\") #\"\\t\" is a tab, \"\\n\" is a newline, and \"\\r\" is a carriage return."
   ]
  },
  {
   "cell_type": "code",
   "execution_count": null,
   "id": "fafa3f4d",
   "metadata": {},
   "outputs": [],
   "source": [
    "n= int(input(\"no of lines\"))\n",
    "for i in range(n,0,-1):\n",
    "    for j in range(n-i):\n",
    "        print(\" \" , end =\"\")\n",
    "    for j in range(2*i-1):\n",
    "        print(\"*\" ,end =\"\")\n",
    "        print(\"\\r\")\n",
    "    \n",
    "\n",
    "    "
   ]
  },
  {
   "cell_type": "code",
   "execution_count": null,
   "id": "686b6ebb",
   "metadata": {},
   "outputs": [],
   "source": [
    "n=7\n",
    "for i in  range(n):\n",
    "    print(\"*\")\n",
    "    for j in range(n-i):\n",
    "        print(\" \" , end =\"\")"
   ]
  },
  {
   "cell_type": "code",
   "execution_count": null,
   "id": "022b4f21",
   "metadata": {},
   "outputs": [],
   "source": [
    "n=7\n"
   ]
  },
  {
   "cell_type": "code",
   "execution_count": 3,
   "id": "b5802bc5",
   "metadata": {},
   "outputs": [
    {
     "name": "stdout",
     "output_type": "stream",
     "text": [
      "        * \n",
      "       * * \n",
      "      * * * \n",
      "     * * * * \n",
      "    * * * * * \n",
      "   * * * * * * \n",
      "  * * * * * * * \n",
      " * * * * * * * * \n",
      "* * * * * * * * * \n"
     ]
    }
   ],
   "source": [
    "n=9\n",
    "i=0\n",
    "while i<n:\n",
    "    print(\" \"*(n-i-1) + \"* \" *(i+1))\n",
    "    i+=1"
   ]
  },
  {
   "cell_type": "code",
   "execution_count": 12,
   "id": "706314b8",
   "metadata": {},
   "outputs": [
    {
     "name": "stdout",
     "output_type": "stream",
     "text": [
      "no of row4\n",
      "0\n",
      "2\n"
     ]
    }
   ],
   "source": [
    "n= int(input(\"no of row\"))\n",
    "for i in range (n,n,2):\n",
    "    print(i)"
   ]
  },
  {
   "cell_type": "markdown",
   "id": "8061ec68",
   "metadata": {},
   "source": [
    "## List"
   ]
  },
  {
   "cell_type": "code",
   "execution_count": null,
   "id": "218db432",
   "metadata": {},
   "outputs": [],
   "source": [
    "# no array exist in core python so we have list\n",
    "#list is a data structure which can hold hetrogenious and humogenious dataset.\n",
    "#we can hols any type of data in list"
   ]
  },
  {
   "cell_type": "code",
   "execution_count": 4,
   "id": "90aa6c61",
   "metadata": {},
   "outputs": [
    {
     "data": {
      "text/plain": [
       "['sandeep', 8765345, 'haldwani']"
      ]
     },
     "execution_count": 4,
     "metadata": {},
     "output_type": "execute_result"
    }
   ],
   "source": [
    "list1= [\"sandeep\", 8765345 , \"haldwani\"]\n",
    "list1"
   ]
  },
  {
   "cell_type": "code",
   "execution_count": 5,
   "id": "1b3ce065",
   "metadata": {},
   "outputs": [
    {
     "data": {
      "text/plain": [
       "list"
      ]
     },
     "execution_count": 5,
     "metadata": {},
     "output_type": "execute_result"
    }
   ],
   "source": [
    "type(list1)"
   ]
  },
  {
   "cell_type": "code",
   "execution_count": 28,
   "id": "af82840b",
   "metadata": {},
   "outputs": [
    {
     "data": {
      "text/plain": [
       "['sandeep',\n",
       " 34567,\n",
       " 'haldwani',\n",
       " (45+3j),\n",
       " ['sandeep', 3, 6, 5, 'haldwani'],\n",
       " True,\n",
       " 5.678,\n",
       " ['sandeep', 34, 5, 6, 7, 'haldwani']]"
      ]
     },
     "execution_count": 28,
     "metadata": {},
     "output_type": "execute_result"
    }
   ],
   "source": [
    "l2= [\"sandeep\", 34567 , \"haldwani\" , 45+3j , [\"sandeep\", 3, 6,5 , \"haldwani\"], True,5.678,[\"sandeep\", 34,5,6,7 , \"haldwani\"]]\n",
    "l2"
   ]
  },
  {
   "cell_type": "code",
   "execution_count": 17,
   "id": "f48665de",
   "metadata": {},
   "outputs": [
    {
     "name": "stdout",
     "output_type": "stream",
     "text": [
      "<class 'str'>\n",
      "<class 'int'>\n",
      "<class 'str'>\n",
      "<class 'complex'>\n",
      "<class 'list'>\n",
      "<class 'bool'>\n",
      "<class 'float'>\n"
     ]
    }
   ],
   "source": [
    "for i in l2:\n",
    "    print(type(i))"
   ]
  },
  {
   "cell_type": "code",
   "execution_count": 23,
   "id": "6eb7d76f",
   "metadata": {},
   "outputs": [
    {
     "name": "stdout",
     "output_type": "stream",
     "text": [
      "<class 'str'>\n",
      "<class 'int'>\n",
      "<class 'str'>\n",
      "<class 'str'>\n",
      "<class 'int'>\n",
      "<class 'str'>\n"
     ]
    }
   ],
   "source": [
    "for i in l2:\n",
    "    if type(i) == list:\n",
    "        for j in i:\n",
    "            print(type(j))"
   ]
  },
  {
   "cell_type": "code",
   "execution_count": 24,
   "id": "e5a0a06c",
   "metadata": {},
   "outputs": [
    {
     "name": "stdout",
     "output_type": "stream",
     "text": [
      "<class 'str'>\n",
      "<class 'int'>\n",
      "<class 'str'>\n"
     ]
    }
   ],
   "source": [
    "for j in i:\n",
    "    print(type(j))"
   ]
  },
  {
   "cell_type": "code",
   "execution_count": 29,
   "id": "8922335b",
   "metadata": {},
   "outputs": [
    {
     "data": {
      "text/plain": [
       "['sandeep',\n",
       " 34567,\n",
       " 'haldwani',\n",
       " (45+3j),\n",
       " ['sandeep', 3, 6, 5, 'haldwani'],\n",
       " True,\n",
       " 5.678,\n",
       " ['sandeep', 34, 5, 6, 7, 'haldwani']]"
      ]
     },
     "execution_count": 29,
     "metadata": {},
     "output_type": "execute_result"
    }
   ],
   "source": [
    "l2"
   ]
  },
  {
   "cell_type": "code",
   "execution_count": 32,
   "id": "461b60b9",
   "metadata": {},
   "outputs": [
    {
     "name": "stdout",
     "output_type": "stream",
     "text": [
      "14\n",
      "\n",
      "52\n",
      "\n"
     ]
    }
   ],
   "source": [
    "for i in l2:\n",
    "    if type(i)== list:\n",
    "        n=0\n",
    "        for j in i:\n",
    "            \n",
    "            if type(j)==int:\n",
    "                n=n+j\n",
    "        print(n)\n",
    "        print()"
   ]
  },
  {
   "cell_type": "code",
   "execution_count": 37,
   "id": "f086c300",
   "metadata": {},
   "outputs": [
    {
     "data": {
      "text/plain": [
       "['sandeep',\n",
       " 34567,\n",
       " 'haldwani',\n",
       " (45+3j),\n",
       " ['sandeep', 3, 6, 5, 'haldwani'],\n",
       " True,\n",
       " 5.678]"
      ]
     },
     "execution_count": 37,
     "metadata": {},
     "output_type": "execute_result"
    }
   ],
   "source": [
    "l3 = [\"sandeep\", 34567 , \"haldwani\" , 45+3j , [\"sandeep\", 3, 6,5 , \"haldwani\"], True,5.678]\n",
    "l3"
   ]
  },
  {
   "cell_type": "code",
   "execution_count": 42,
   "id": "9c0ce2a5",
   "metadata": {},
   "outputs": [
    {
     "data": {
      "text/plain": [
       "[]"
      ]
     },
     "execution_count": 42,
     "metadata": {},
     "output_type": "execute_result"
    }
   ],
   "source": [
    "l3[-3:-6]"
   ]
  },
  {
   "cell_type": "code",
   "execution_count": 50,
   "id": "62fd5225",
   "metadata": {},
   "outputs": [
    {
     "data": {
      "text/plain": [
       "[0, 1, 2, 3, 4]"
      ]
     },
     "execution_count": 50,
     "metadata": {},
     "output_type": "execute_result"
    }
   ],
   "source": [
    "list(range(5))"
   ]
  },
  {
   "cell_type": "code",
   "execution_count": 51,
   "id": "bd9d944e",
   "metadata": {},
   "outputs": [
    {
     "data": {
      "text/plain": [
       "[2, 3, 4, 5, 6, 7, 8, 9]"
      ]
     },
     "execution_count": 51,
     "metadata": {},
     "output_type": "execute_result"
    }
   ],
   "source": [
    "list (range(2,10))"
   ]
  },
  {
   "cell_type": "code",
   "execution_count": 52,
   "id": "1d12a45b",
   "metadata": {},
   "outputs": [
    {
     "data": {
      "text/plain": [
       "7"
      ]
     },
     "execution_count": 52,
     "metadata": {},
     "output_type": "execute_result"
    }
   ],
   "source": [
    "len(l3)"
   ]
  },
  {
   "cell_type": "code",
   "execution_count": null,
   "id": "e6bdfda5",
   "metadata": {},
   "outputs": [],
   "source": []
  }
 ],
 "metadata": {
  "kernelspec": {
   "display_name": "Python 3",
   "language": "python",
   "name": "python3"
  },
  "language_info": {
   "codemirror_mode": {
    "name": "ipython",
    "version": 3
   },
   "file_extension": ".py",
   "mimetype": "text/x-python",
   "name": "python",
   "nbconvert_exporter": "python",
   "pygments_lexer": "ipython3",
   "version": "3.8.8"
  }
 },
 "nbformat": 4,
 "nbformat_minor": 5
}
